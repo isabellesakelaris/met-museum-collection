{
 "cells": [
  {
   "cell_type": "code",
   "execution_count": 25,
   "id": "8f4b21fb",
   "metadata": {},
   "outputs": [],
   "source": [
    "import pandas as pd\n",
    "import numpy as np\n",
    "import seaborn as sns\n",
    "import matplotlib.pyplot as plt"
   ]
  },
  {
   "cell_type": "code",
   "execution_count": 26,
   "id": "cafe577d",
   "metadata": {},
   "outputs": [
    {
     "name": "stderr",
     "output_type": "stream",
     "text": [
      "/opt/anaconda3/lib/python3.9/site-packages/IPython/core/interactiveshell.py:3444: DtypeWarning: Columns (5,7,10,11,12,13,14,34,35,36,37,38,39,40,41,42,43,44,45,46) have mixed types.Specify dtype option on import or set low_memory=False.\n",
      "  exec(code_obj, self.user_global_ns, self.user_ns)\n"
     ]
    }
   ],
   "source": [
    "df = pd.read_csv('../data/MetObjects.csv')"
   ]
  },
  {
   "cell_type": "code",
   "execution_count": 27,
   "id": "a5a1a504",
   "metadata": {},
   "outputs": [
    {
     "data": {
      "text/plain": [
       "(477804, 54)"
      ]
     },
     "execution_count": 27,
     "metadata": {},
     "output_type": "execute_result"
    }
   ],
   "source": [
    "df.shape"
   ]
  },
  {
   "cell_type": "code",
   "execution_count": 28,
   "id": "cd954df1",
   "metadata": {},
   "outputs": [
    {
     "data": {
      "text/html": [
       "<div>\n",
       "<style scoped>\n",
       "    .dataframe tbody tr th:only-of-type {\n",
       "        vertical-align: middle;\n",
       "    }\n",
       "\n",
       "    .dataframe tbody tr th {\n",
       "        vertical-align: top;\n",
       "    }\n",
       "\n",
       "    .dataframe thead th {\n",
       "        text-align: right;\n",
       "    }\n",
       "</style>\n",
       "<table border=\"1\" class=\"dataframe\">\n",
       "  <thead>\n",
       "    <tr style=\"text-align: right;\">\n",
       "      <th></th>\n",
       "      <th>Object Number</th>\n",
       "      <th>Is Highlight</th>\n",
       "      <th>Is Timeline Work</th>\n",
       "      <th>Is Public Domain</th>\n",
       "      <th>Object ID</th>\n",
       "      <th>Gallery Number</th>\n",
       "      <th>Department</th>\n",
       "      <th>AccessionYear</th>\n",
       "      <th>Object Name</th>\n",
       "      <th>Title</th>\n",
       "      <th>...</th>\n",
       "      <th>River</th>\n",
       "      <th>Classification</th>\n",
       "      <th>Rights and Reproduction</th>\n",
       "      <th>Link Resource</th>\n",
       "      <th>Object Wikidata URL</th>\n",
       "      <th>Metadata Date</th>\n",
       "      <th>Repository</th>\n",
       "      <th>Tags</th>\n",
       "      <th>Tags AAT URL</th>\n",
       "      <th>Tags Wikidata URL</th>\n",
       "    </tr>\n",
       "  </thead>\n",
       "  <tbody>\n",
       "    <tr>\n",
       "      <th>0</th>\n",
       "      <td>1979.486.1</td>\n",
       "      <td>False</td>\n",
       "      <td>False</td>\n",
       "      <td>False</td>\n",
       "      <td>1</td>\n",
       "      <td>NaN</td>\n",
       "      <td>The American Wing</td>\n",
       "      <td>1979.0</td>\n",
       "      <td>Coin</td>\n",
       "      <td>One-dollar Liberty Head Coin</td>\n",
       "      <td>...</td>\n",
       "      <td>NaN</td>\n",
       "      <td>NaN</td>\n",
       "      <td>NaN</td>\n",
       "      <td>http://www.metmuseum.org/art/collection/search/1</td>\n",
       "      <td>NaN</td>\n",
       "      <td>NaN</td>\n",
       "      <td>Metropolitan Museum of Art, New York, NY</td>\n",
       "      <td>NaN</td>\n",
       "      <td>NaN</td>\n",
       "      <td>NaN</td>\n",
       "    </tr>\n",
       "  </tbody>\n",
       "</table>\n",
       "<p>1 rows × 54 columns</p>\n",
       "</div>"
      ],
      "text/plain": [
       "  Object Number  Is Highlight  Is Timeline Work  Is Public Domain  Object ID  \\\n",
       "0    1979.486.1         False             False             False          1   \n",
       "\n",
       "  Gallery Number         Department AccessionYear Object Name  \\\n",
       "0            NaN  The American Wing        1979.0        Coin   \n",
       "\n",
       "                          Title  ... River Classification  \\\n",
       "0  One-dollar Liberty Head Coin  ...   NaN            NaN   \n",
       "\n",
       "  Rights and Reproduction                                     Link Resource  \\\n",
       "0                     NaN  http://www.metmuseum.org/art/collection/search/1   \n",
       "\n",
       "  Object Wikidata URL Metadata Date                                Repository  \\\n",
       "0                 NaN           NaN  Metropolitan Museum of Art, New York, NY   \n",
       "\n",
       "  Tags Tags AAT URL Tags Wikidata URL  \n",
       "0  NaN          NaN               NaN  \n",
       "\n",
       "[1 rows x 54 columns]"
      ]
     },
     "execution_count": 28,
     "metadata": {},
     "output_type": "execute_result"
    }
   ],
   "source": [
    "df.head(1)"
   ]
  },
  {
   "cell_type": "code",
   "execution_count": 83,
   "id": "1f8821f9",
   "metadata": {},
   "outputs": [],
   "source": [
    "#removing unnecessary fields for this investigation\n",
    "new_df = df.drop(columns=['Is Timeline Work', 'Is Public Domain', 'Rights and Reproduction', 'Object Wikidata URL', 'Metadata Date', 'Repository', 'Tags AAT URL', 'Tags Wikidata URL', 'AccessionYear', 'Subregion', 'Locale', 'Locus', 'River', 'Dynasty', 'Geography Type', 'City', 'Gallery Number', 'Period', \n",
    "                'State', 'County', 'Reign', 'Object End Date', 'Dimensions', 'Credit Line', 'Region', 'Excavation', 'Object Begin Date', 'Artist Wikidata URL', 'Artist ULAN URL', 'Portfolio', 'Constituent ID', 'Artist End Date', 'Object Name', 'Artist Prefix', 'Artist Role', 'Artist Display Bio', 'Artist Alpha Sort', 'Artist Suffix'])\n",
    "    "
   ]
  },
  {
   "cell_type": "code",
   "execution_count": 84,
   "id": "a42401d1",
   "metadata": {},
   "outputs": [
    {
     "data": {
      "text/plain": [
       "Object Number               0\n",
       "Is Highlight                0\n",
       "Object ID                   0\n",
       "Department                  0\n",
       "Title                   29185\n",
       "Culture                270425\n",
       "Artist Display Name    202269\n",
       "Artist Nationality     202269\n",
       "Artist Begin Date      202269\n",
       "Artist Gender          374743\n",
       "Object Date             13867\n",
       "Medium                   7120\n",
       "Country                402053\n",
       "Classification          78206\n",
       "Link Resource               0\n",
       "Tags                   277404\n",
       "dtype: int64"
      ]
     },
     "execution_count": 84,
     "metadata": {},
     "output_type": "execute_result"
    }
   ],
   "source": [
    "new_df.isnull().sum()"
   ]
  },
  {
   "cell_type": "code",
   "execution_count": 85,
   "id": "3aeb1805",
   "metadata": {},
   "outputs": [
    {
     "data": {
      "text/plain": [
       "Walker Evans                                                                                7505\n",
       "Kinney Brothers Tobacco Company                                                             4163\n",
       "Unknown                                                                                     3562\n",
       "W. Duke, Sons & Co.                                                                         3088\n",
       "Allen & Ginter                                                                              2960\n",
       "                                                                                            ... \n",
       "D. Kojan                                                                                       1\n",
       "Albert Komp                                                                                    1\n",
       "Paul Konewka|Roberts Brothers|Johann Wolfgang von Goethe|Bayard Taylor|John Wilson & Son       1\n",
       "Paul Konewka|Stroefer and Kirchner                                                             1\n",
       "Greenleaf & Crosby Co.                                                                         1\n",
       "Name: Artist Display Name, Length: 64531, dtype: int64"
      ]
     },
     "execution_count": 85,
     "metadata": {},
     "output_type": "execute_result"
    }
   ],
   "source": [
    "new_df['Artist Display Name'].value_counts()"
   ]
  },
  {
   "cell_type": "code",
   "execution_count": 86,
   "id": "c398aa22",
   "metadata": {},
   "outputs": [
    {
     "data": {
      "text/html": [
       "<div>\n",
       "<style scoped>\n",
       "    .dataframe tbody tr th:only-of-type {\n",
       "        vertical-align: middle;\n",
       "    }\n",
       "\n",
       "    .dataframe tbody tr th {\n",
       "        vertical-align: top;\n",
       "    }\n",
       "\n",
       "    .dataframe thead th {\n",
       "        text-align: right;\n",
       "    }\n",
       "</style>\n",
       "<table border=\"1\" class=\"dataframe\">\n",
       "  <thead>\n",
       "    <tr style=\"text-align: right;\">\n",
       "      <th></th>\n",
       "      <th>Object Number</th>\n",
       "      <th>Is Highlight</th>\n",
       "      <th>Object ID</th>\n",
       "      <th>Department</th>\n",
       "      <th>Title</th>\n",
       "      <th>Culture</th>\n",
       "      <th>Artist Display Name</th>\n",
       "      <th>Artist Nationality</th>\n",
       "      <th>Artist Begin Date</th>\n",
       "      <th>Artist Gender</th>\n",
       "      <th>Object Date</th>\n",
       "      <th>Medium</th>\n",
       "      <th>Country</th>\n",
       "      <th>Classification</th>\n",
       "      <th>Link Resource</th>\n",
       "      <th>Tags</th>\n",
       "    </tr>\n",
       "  </thead>\n",
       "  <tbody>\n",
       "    <tr>\n",
       "      <th>0</th>\n",
       "      <td>1979.486.1</td>\n",
       "      <td>False</td>\n",
       "      <td>1</td>\n",
       "      <td>The American Wing</td>\n",
       "      <td>One-dollar Liberty Head Coin</td>\n",
       "      <td>NaN</td>\n",
       "      <td>James Barton Longacre</td>\n",
       "      <td>American</td>\n",
       "      <td>1794</td>\n",
       "      <td>NaN</td>\n",
       "      <td>1853</td>\n",
       "      <td>Gold</td>\n",
       "      <td>NaN</td>\n",
       "      <td>NaN</td>\n",
       "      <td>http://www.metmuseum.org/art/collection/search/1</td>\n",
       "      <td>NaN</td>\n",
       "    </tr>\n",
       "  </tbody>\n",
       "</table>\n",
       "</div>"
      ],
      "text/plain": [
       "  Object Number  Is Highlight  Object ID         Department  \\\n",
       "0    1979.486.1         False          1  The American Wing   \n",
       "\n",
       "                          Title Culture    Artist Display Name  \\\n",
       "0  One-dollar Liberty Head Coin     NaN  James Barton Longacre   \n",
       "\n",
       "  Artist Nationality Artist Begin Date Artist Gender Object Date Medium  \\\n",
       "0           American        1794                 NaN        1853   Gold   \n",
       "\n",
       "  Country Classification                                     Link Resource  \\\n",
       "0     NaN            NaN  http://www.metmuseum.org/art/collection/search/1   \n",
       "\n",
       "  Tags  \n",
       "0  NaN  "
      ]
     },
     "execution_count": 86,
     "metadata": {},
     "output_type": "execute_result"
    }
   ],
   "source": [
    "new_df.head(1)"
   ]
  },
  {
   "cell_type": "code",
   "execution_count": 87,
   "id": "a050f9c4",
   "metadata": {},
   "outputs": [
    {
     "data": {
      "text/plain": [
       "                                                                                               67789\n",
       "American                                                                                       46368\n",
       " |                                                                                             17287\n",
       "French                                                                                         16310\n",
       "Italian                                                                                        11681\n",
       "                                                                                               ...  \n",
       "German|German|German|German| |                                                                     1\n",
       "Netherlandish|Flemish|Flemish|Flemish                                                              1\n",
       "French|Danish                                                                                      1\n",
       " | |British|British|British|British|British|British|British|British|British|British|British        1\n",
       " | | | | | | | | | | | | | | | | | | | | | | | | | | | | | |                                       1\n",
       "Name: Artist Nationality, Length: 5037, dtype: int64"
      ]
     },
     "execution_count": 87,
     "metadata": {},
     "output_type": "execute_result"
    }
   ],
   "source": [
    "new_df['Artist Nationality'].value_counts()"
   ]
  },
  {
   "cell_type": "code",
   "execution_count": 88,
   "id": "b49f259c",
   "metadata": {},
   "outputs": [
    {
     "data": {
      "text/plain": [
       "|                                                        56855\n",
       "||                                                       21063\n",
       "Female                                                    8708\n",
       "|||                                                       6245\n",
       "Female|                                                   2680\n",
       "                                                         ...  \n",
       "||||||||||||Female||||                                       1\n",
       "||||||||||Female||                                           1\n",
       "|Female||||||||Female|||||||Female|||||||||Female||||        1\n",
       "||||Female|||||||||||                                        1\n",
       "||||||||||||||||||Female|||                                  1\n",
       "Name: Artist Gender, Length: 284, dtype: int64"
      ]
     },
     "execution_count": 88,
     "metadata": {},
     "output_type": "execute_result"
    }
   ],
   "source": [
    "new_df['Artist Gender'].value_counts()"
   ]
  },
  {
   "cell_type": "code",
   "execution_count": 89,
   "id": "40d87055",
   "metadata": {},
   "outputs": [
    {
     "data": {
      "text/plain": [
       "False    475320\n",
       "True       2484\n",
       "Name: Is Highlight, dtype: int64"
      ]
     },
     "execution_count": 89,
     "metadata": {},
     "output_type": "execute_result"
    }
   ],
   "source": [
    "new_df['Is Highlight'].value_counts()"
   ]
  },
  {
   "cell_type": "code",
   "execution_count": 90,
   "id": "9b3b0eba",
   "metadata": {},
   "outputs": [
    {
     "data": {
      "text/plain": [
       "Drawings and Prints                          167152\n",
       "European Sculpture and Decorative Arts        42934\n",
       "Photographs                                   37192\n",
       "Asian Art                                     36817\n",
       "Greek and Roman Art                           33750\n",
       "Costume Institute                             31412\n",
       "Egyptian Art                                  27962\n",
       "The American Wing                             18412\n",
       "Islamic Art                                   15473\n",
       "Modern and Contemporary Art                   14241\n",
       "Arms and Armor                                13611\n",
       "Arts of Africa, Oceania, and the Americas     12335\n",
       "Medieval Art                                   7150\n",
       "Ancient Near Eastern Art                       6222\n",
       "Musical Instruments                            5210\n",
       "European Paintings                             2617\n",
       "Robert Lehman Collection                       2586\n",
       "The Cloisters                                  2338\n",
       "The Libraries                                   390\n",
       "Name: Department, dtype: int64"
      ]
     },
     "execution_count": 90,
     "metadata": {},
     "output_type": "execute_result"
    }
   ],
   "source": [
    "new_df['Department'].value_counts()"
   ]
  },
  {
   "cell_type": "code",
   "execution_count": 91,
   "id": "91cbe227",
   "metadata": {},
   "outputs": [
    {
     "data": {
      "text/plain": [
       "American                      28381\n",
       "French                        18348\n",
       "Greek, Attic                  17321\n",
       "Japan                         16834\n",
       "China                         13486\n",
       "                              ...  \n",
       "Austrian, possibly Hall           1\n",
       "Netherlandish or Dutch            1\n",
       "British and Chinese               1\n",
       "French with Chinese sticks        1\n",
       "Dutch, possibly Beveren           1\n",
       "Name: Culture, Length: 7180, dtype: int64"
      ]
     },
     "execution_count": 91,
     "metadata": {},
     "output_type": "execute_result"
    }
   ],
   "source": [
    "new_df['Culture'].value_counts()"
   ]
  },
  {
   "cell_type": "code",
   "execution_count": 133,
   "id": "0e9e0f18",
   "metadata": {},
   "outputs": [
    {
     "data": {
      "text/plain": [
       "Prints                                  80981\n",
       "Prints|Ephemera                         28388\n",
       "Photographs                             27091\n",
       "Drawings                                22717\n",
       "Vases                                   21315\n",
       "Books                                   14764\n",
       "Ceramics                                11059\n",
       "Textiles-Woven                          11000\n",
       "Photographs|Ephemera                    10018\n",
       "Paintings                                8624\n",
       "Glass                                    6133\n",
       "Negatives                                6133\n",
       "Prints|Ornament & Architecture           5171\n",
       "Drawings|Ornament & Architecture         4974\n",
       "Textiles-Laces                           4957\n",
       "Ceramics-Porcelain                       4373\n",
       "Textiles-Embroidered                     4086\n",
       "Metalwork-Silver                         3976\n",
       "Books|Prints|Ornament & Architecture     3752\n",
       "Ceramics-Pottery                         3664\n",
       "Name: Classification, dtype: int64"
      ]
     },
     "execution_count": 133,
     "metadata": {},
     "output_type": "execute_result"
    }
   ],
   "source": [
    "new_df['Classification'].value_counts().nlargest(20)"
   ]
  },
  {
   "cell_type": "code",
   "execution_count": 114,
   "id": "328970a0",
   "metadata": {},
   "outputs": [],
   "source": [
    "highlights_df = new_df[new_df['Is Highlight'] == True]"
   ]
  },
  {
   "cell_type": "code",
   "execution_count": 121,
   "id": "a867ab0d",
   "metadata": {},
   "outputs": [
    {
     "data": {
      "text/plain": [
       "(2484, 16)"
      ]
     },
     "execution_count": 121,
     "metadata": {},
     "output_type": "execute_result"
    }
   ],
   "source": [
    "highlights_df.shape"
   ]
  },
  {
   "cell_type": "code",
   "execution_count": 119,
   "id": "f4453669",
   "metadata": {},
   "outputs": [
    {
     "data": {
      "text/plain": [
       "Object Number             0\n",
       "Is Highlight              0\n",
       "Object ID                 0\n",
       "Department                0\n",
       "Title                    25\n",
       "Culture                1179\n",
       "Artist Display Name     792\n",
       "Artist Nationality      792\n",
       "Artist Begin Date       792\n",
       "Artist Gender          1894\n",
       "Object Date               8\n",
       "Medium                  326\n",
       "Country                1574\n",
       "Classification         1058\n",
       "Link Resource             0\n",
       "Tags                    852\n",
       "dtype: int64"
      ]
     },
     "execution_count": 119,
     "metadata": {},
     "output_type": "execute_result"
    }
   ],
   "source": [
    "highlights_df.isnull().sum()"
   ]
  },
  {
   "cell_type": "code",
   "execution_count": 116,
   "id": "e1da8180",
   "metadata": {},
   "outputs": [
    {
     "data": {
      "text/plain": [
       "Winslow Homer                                                        12\n",
       "John Singer Sargent                                                  12\n",
       "Thomas Eakins                                                        10\n",
       "Wendy Red Star                                                       10\n",
       "Rembrandt (Rembrandt van Rijn)                                        9\n",
       "                                                                     ..\n",
       "Francesca Woodman                                                     1\n",
       "Adolf de Meyer                                                        1\n",
       "Albert Sands Southworth|Josiah Johnson Hawes|Southworth and Hawes     1\n",
       "Alexander Gardner|Mathew B. Brady                                     1\n",
       "Carolyn Elizabeth Shuttlesworth-Davidson|Howard University            1\n",
       "Name: Artist Display Name, Length: 1328, dtype: int64"
      ]
     },
     "execution_count": 116,
     "metadata": {},
     "output_type": "execute_result"
    }
   ],
   "source": [
    "highlights_df['Artist Display Name'].value_counts()"
   ]
  },
  {
   "cell_type": "code",
   "execution_count": 120,
   "id": "7cfee9f5",
   "metadata": {},
   "outputs": [
    {
     "data": {
      "text/plain": [
       "                                       391\n",
       "American                               292\n",
       "French                                 171\n",
       " |                                     137\n",
       "Italian                                 97\n",
       "                                      ... \n",
       "American, born Germany                   1\n",
       "British, born United States              1\n",
       "French, born Romania (Transylvania)      1\n",
       "Swiss| |                                 1\n",
       " | | | | | | | | | | |                   1\n",
       "Name: Artist Nationality, Length: 181, dtype: int64"
      ]
     },
     "execution_count": 120,
     "metadata": {},
     "output_type": "execute_result"
    }
   ],
   "source": [
    "highlights_df['Artist Nationality'].value_counts()"
   ]
  },
  {
   "cell_type": "code",
   "execution_count": 122,
   "id": "49aa8eea",
   "metadata": {
    "scrolled": true
   },
   "outputs": [
    {
     "data": {
      "text/plain": [
       "The American Wing                            434\n",
       "The Libraries                                376\n",
       "Modern and Contemporary Art                  179\n",
       "Costume Institute                            134\n",
       "European Paintings                           125\n",
       "Islamic Art                                  120\n",
       "Greek and Roman Art                          115\n",
       "Egyptian Art                                 114\n",
       "Photographs                                  113\n",
       "Musical Instruments                          105\n",
       "Arts of Africa, Oceania, and the Americas    104\n",
       "Robert Lehman Collection                      98\n",
       "Drawings and Prints                           89\n",
       "European Sculpture and Decorative Arts        82\n",
       "Ancient Near Eastern Art                      75\n",
       "The Cloisters                                 58\n",
       "Asian Art                                     55\n",
       "Medieval Art                                  54\n",
       "Arms and Armor                                54\n",
       "Name: Department, dtype: int64"
      ]
     },
     "execution_count": 122,
     "metadata": {},
     "output_type": "execute_result"
    }
   ],
   "source": [
    "highlights_df['Department'].value_counts()"
   ]
  },
  {
   "cell_type": "code",
   "execution_count": 148,
   "id": "e0464d25",
   "metadata": {},
   "outputs": [
    {
     "data": {
      "text/plain": [
       "Paintings                       262\n",
       "Photographs                     106\n",
       "Drawings                         96\n",
       "Sculpture                        64\n",
       "Prints                           49\n",
       "                               ... \n",
       "Stone-Architectural               1\n",
       "Ivory/Bone-Reliefs-Inscribed      1\n",
       "Stone-Implements-Inscribed        1\n",
       "Stone-Cylinder Seals              1\n",
       "Paintings|Works on Paper          1\n",
       "Name: Classification, Length: 230, dtype: int64"
      ]
     },
     "execution_count": 148,
     "metadata": {},
     "output_type": "execute_result"
    }
   ],
   "source": [
    "highlights_df['Classification'].value_counts()"
   ]
  },
  {
   "cell_type": "code",
   "execution_count": 154,
   "id": "d4658799",
   "metadata": {},
   "outputs": [],
   "source": [
    "American_df = new_df[new_df['Department'] == 'The American Wing']"
   ]
  },
  {
   "cell_type": "code",
   "execution_count": 155,
   "id": "146694e6",
   "metadata": {},
   "outputs": [
    {
     "data": {
      "text/plain": [
       "(18412, 16)"
      ]
     },
     "execution_count": 155,
     "metadata": {},
     "output_type": "execute_result"
    }
   ],
   "source": [
    "American_df.shape"
   ]
  },
  {
   "cell_type": "code",
   "execution_count": 156,
   "id": "2f2ce818",
   "metadata": {},
   "outputs": [
    {
     "data": {
      "text/html": [
       "<div>\n",
       "<style scoped>\n",
       "    .dataframe tbody tr th:only-of-type {\n",
       "        vertical-align: middle;\n",
       "    }\n",
       "\n",
       "    .dataframe tbody tr th {\n",
       "        vertical-align: top;\n",
       "    }\n",
       "\n",
       "    .dataframe thead th {\n",
       "        text-align: right;\n",
       "    }\n",
       "</style>\n",
       "<table border=\"1\" class=\"dataframe\">\n",
       "  <thead>\n",
       "    <tr style=\"text-align: right;\">\n",
       "      <th></th>\n",
       "      <th>Object Number</th>\n",
       "      <th>Is Highlight</th>\n",
       "      <th>Object ID</th>\n",
       "      <th>Department</th>\n",
       "      <th>Title</th>\n",
       "      <th>Culture</th>\n",
       "      <th>Artist Display Name</th>\n",
       "      <th>Artist Nationality</th>\n",
       "      <th>Artist Begin Date</th>\n",
       "      <th>Artist Gender</th>\n",
       "      <th>Object Date</th>\n",
       "      <th>Medium</th>\n",
       "      <th>Country</th>\n",
       "      <th>Classification</th>\n",
       "      <th>Link Resource</th>\n",
       "      <th>Tags</th>\n",
       "    </tr>\n",
       "  </thead>\n",
       "  <tbody>\n",
       "    <tr>\n",
       "      <th>0</th>\n",
       "      <td>1979.486.1</td>\n",
       "      <td>False</td>\n",
       "      <td>1</td>\n",
       "      <td>The American Wing</td>\n",
       "      <td>One-dollar Liberty Head Coin</td>\n",
       "      <td>NaN</td>\n",
       "      <td>James Barton Longacre</td>\n",
       "      <td>American</td>\n",
       "      <td>1794</td>\n",
       "      <td>NaN</td>\n",
       "      <td>1853</td>\n",
       "      <td>Gold</td>\n",
       "      <td>NaN</td>\n",
       "      <td>NaN</td>\n",
       "      <td>http://www.metmuseum.org/art/collection/search/1</td>\n",
       "      <td>NaN</td>\n",
       "    </tr>\n",
       "    <tr>\n",
       "      <th>1</th>\n",
       "      <td>1980.264.5</td>\n",
       "      <td>False</td>\n",
       "      <td>2</td>\n",
       "      <td>The American Wing</td>\n",
       "      <td>Ten-dollar Liberty Head Coin</td>\n",
       "      <td>NaN</td>\n",
       "      <td>Christian Gobrecht</td>\n",
       "      <td></td>\n",
       "      <td>1785</td>\n",
       "      <td>NaN</td>\n",
       "      <td>1901</td>\n",
       "      <td>Gold</td>\n",
       "      <td>NaN</td>\n",
       "      <td>NaN</td>\n",
       "      <td>http://www.metmuseum.org/art/collection/search/2</td>\n",
       "      <td>NaN</td>\n",
       "    </tr>\n",
       "    <tr>\n",
       "      <th>2</th>\n",
       "      <td>67.265.9</td>\n",
       "      <td>False</td>\n",
       "      <td>3</td>\n",
       "      <td>The American Wing</td>\n",
       "      <td>Two-and-a-Half Dollar Coin</td>\n",
       "      <td>NaN</td>\n",
       "      <td>NaN</td>\n",
       "      <td>NaN</td>\n",
       "      <td>NaN</td>\n",
       "      <td>NaN</td>\n",
       "      <td>1909–27</td>\n",
       "      <td>Gold</td>\n",
       "      <td>NaN</td>\n",
       "      <td>NaN</td>\n",
       "      <td>http://www.metmuseum.org/art/collection/search/3</td>\n",
       "      <td>NaN</td>\n",
       "    </tr>\n",
       "    <tr>\n",
       "      <th>3</th>\n",
       "      <td>67.265.10</td>\n",
       "      <td>False</td>\n",
       "      <td>4</td>\n",
       "      <td>The American Wing</td>\n",
       "      <td>Two-and-a-Half Dollar Coin</td>\n",
       "      <td>NaN</td>\n",
       "      <td>NaN</td>\n",
       "      <td>NaN</td>\n",
       "      <td>NaN</td>\n",
       "      <td>NaN</td>\n",
       "      <td>1909–27</td>\n",
       "      <td>Gold</td>\n",
       "      <td>NaN</td>\n",
       "      <td>NaN</td>\n",
       "      <td>http://www.metmuseum.org/art/collection/search/4</td>\n",
       "      <td>NaN</td>\n",
       "    </tr>\n",
       "    <tr>\n",
       "      <th>4</th>\n",
       "      <td>67.265.11</td>\n",
       "      <td>False</td>\n",
       "      <td>5</td>\n",
       "      <td>The American Wing</td>\n",
       "      <td>Two-and-a-Half Dollar Coin</td>\n",
       "      <td>NaN</td>\n",
       "      <td>NaN</td>\n",
       "      <td>NaN</td>\n",
       "      <td>NaN</td>\n",
       "      <td>NaN</td>\n",
       "      <td>1909–27</td>\n",
       "      <td>Gold</td>\n",
       "      <td>NaN</td>\n",
       "      <td>NaN</td>\n",
       "      <td>http://www.metmuseum.org/art/collection/search/5</td>\n",
       "      <td>NaN</td>\n",
       "    </tr>\n",
       "  </tbody>\n",
       "</table>\n",
       "</div>"
      ],
      "text/plain": [
       "  Object Number  Is Highlight  Object ID         Department  \\\n",
       "0    1979.486.1         False          1  The American Wing   \n",
       "1    1980.264.5         False          2  The American Wing   \n",
       "2      67.265.9         False          3  The American Wing   \n",
       "3     67.265.10         False          4  The American Wing   \n",
       "4     67.265.11         False          5  The American Wing   \n",
       "\n",
       "                          Title Culture    Artist Display Name  \\\n",
       "0  One-dollar Liberty Head Coin     NaN  James Barton Longacre   \n",
       "1  Ten-dollar Liberty Head Coin     NaN     Christian Gobrecht   \n",
       "2    Two-and-a-Half Dollar Coin     NaN                    NaN   \n",
       "3    Two-and-a-Half Dollar Coin     NaN                    NaN   \n",
       "4    Two-and-a-Half Dollar Coin     NaN                    NaN   \n",
       "\n",
       "  Artist Nationality Artist Begin Date Artist Gender Object Date Medium  \\\n",
       "0           American        1794                 NaN        1853   Gold   \n",
       "1                           1785                 NaN        1901   Gold   \n",
       "2                NaN               NaN           NaN     1909–27   Gold   \n",
       "3                NaN               NaN           NaN     1909–27   Gold   \n",
       "4                NaN               NaN           NaN     1909–27   Gold   \n",
       "\n",
       "  Country Classification                                     Link Resource  \\\n",
       "0     NaN            NaN  http://www.metmuseum.org/art/collection/search/1   \n",
       "1     NaN            NaN  http://www.metmuseum.org/art/collection/search/2   \n",
       "2     NaN            NaN  http://www.metmuseum.org/art/collection/search/3   \n",
       "3     NaN            NaN  http://www.metmuseum.org/art/collection/search/4   \n",
       "4     NaN            NaN  http://www.metmuseum.org/art/collection/search/5   \n",
       "\n",
       "  Tags  \n",
       "0  NaN  \n",
       "1  NaN  \n",
       "2  NaN  \n",
       "3  NaN  \n",
       "4  NaN  "
      ]
     },
     "execution_count": 156,
     "metadata": {},
     "output_type": "execute_result"
    }
   ],
   "source": [
    "American_df.head()"
   ]
  },
  {
   "cell_type": "code",
   "execution_count": 152,
   "id": "ca949fe7",
   "metadata": {},
   "outputs": [
    {
     "data": {
      "text/plain": [
       "Object Number              0\n",
       "Is Highlight               0\n",
       "Object ID                  0\n",
       "Department                 0\n",
       "Title                      0\n",
       "Culture                 1925\n",
       "Artist Display Name     6475\n",
       "Artist Nationality      6475\n",
       "Artist Begin Date       6475\n",
       "Artist Gender          15981\n",
       "Object Date              637\n",
       "Medium                    40\n",
       "Country                 7241\n",
       "Classification         18412\n",
       "Link Resource              0\n",
       "Tags                    9816\n",
       "dtype: int64"
      ]
     },
     "execution_count": 152,
     "metadata": {},
     "output_type": "execute_result"
    }
   ],
   "source": [
    "American_df.isnull().sum()"
   ]
  },
  {
   "cell_type": "code",
   "execution_count": 157,
   "id": "fbe1a9e6",
   "metadata": {},
   "outputs": [
    {
     "data": {
      "text/plain": [
       "Porcelain                                                                    1302\n",
       "Silver                                                                       1111\n",
       "Oil on canvas                                                                 974\n",
       "Watercolor on ivory                                                           632\n",
       "Earthenware                                                                   626\n",
       "                                                                             ... \n",
       "Gouache, watercolor, and graphite on off-white wove paper                       1\n",
       "Watercolor and gouache with graphite on brown wove paper                        1\n",
       "Watercolor and gouache and graphite on off-white Japan-type paper               1\n",
       "Graphite, fixative layer, on off-white wove paper, laid down on pulpboard       1\n",
       "Chromogenic print                                                               1\n",
       "Name: Medium, Length: 3690, dtype: int64"
      ]
     },
     "execution_count": 157,
     "metadata": {},
     "output_type": "execute_result"
    }
   ],
   "source": [
    "American_df['Medium'].value_counts()"
   ]
  },
  {
   "cell_type": "code",
   "execution_count": 158,
   "id": "4cc29f6e",
   "metadata": {},
   "outputs": [
    {
     "data": {
      "text/plain": [
       "Oil on canvas                273\n",
       "Bronze                        50\n",
       "Marble                        44\n",
       "Gelatin silver print          35\n",
       "silk                          34\n",
       "                            ... \n",
       "Feathers on cotton fabric      1\n",
       "Green schist                   1\n",
       "Wood, red hematite             1\n",
       "Wood, paint, feathers          1\n",
       "Watercolor on paper board      1\n",
       "Name: Medium, Length: 1246, dtype: int64"
      ]
     },
     "execution_count": 158,
     "metadata": {},
     "output_type": "execute_result"
    }
   ],
   "source": [
    "highlights_df['Medium'].value_counts()"
   ]
  },
  {
   "cell_type": "code",
   "execution_count": 160,
   "id": "a12da312",
   "metadata": {},
   "outputs": [],
   "source": [
    "oil_df = new_df[new_df['Medium'] == 'Oil on canvas']"
   ]
  },
  {
   "cell_type": "code",
   "execution_count": 161,
   "id": "fba86761",
   "metadata": {},
   "outputs": [
    {
     "data": {
      "text/plain": [
       "(3433, 16)"
      ]
     },
     "execution_count": 161,
     "metadata": {},
     "output_type": "execute_result"
    }
   ],
   "source": [
    "oil_df.shape"
   ]
  }
 ],
 "metadata": {
  "kernelspec": {
   "display_name": "Python 3 (ipykernel)",
   "language": "python",
   "name": "python3"
  },
  "language_info": {
   "codemirror_mode": {
    "name": "ipython",
    "version": 3
   },
   "file_extension": ".py",
   "mimetype": "text/x-python",
   "name": "python",
   "nbconvert_exporter": "python",
   "pygments_lexer": "ipython3",
   "version": "3.9.7"
  }
 },
 "nbformat": 4,
 "nbformat_minor": 5
}
